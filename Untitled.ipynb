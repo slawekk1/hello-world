{
 "cells": [
  {
   "cell_type": "markdown",
   "id": "324a184f-f72c-473b-868b-8682f3801a82",
   "metadata": {},
   "source": [
    "My first notebook in GCP"
   ]
  },
  {
   "cell_type": "code",
   "execution_count": 2,
   "id": "2b8c5984-fcf9-49c3-89dc-907a058925f6",
   "metadata": {},
   "outputs": [
    {
     "name": "stdout",
     "output_type": "stream",
     "text": [
      "Collecting plotly\n",
      "  Downloading plotly-5.9.0-py2.py3-none-any.whl (15.2 MB)\n",
      "\u001b[2K     \u001b[90m━━━━━━━━━━━━━━━━━━━━━━━━━━━━━━━━━━━━━━━━\u001b[0m \u001b[32m15.2/15.2 MB\u001b[0m \u001b[31m35.6 MB/s\u001b[0m eta \u001b[36m0:00:00\u001b[0m00:01\u001b[0m00:01\u001b[0m\n",
      "\u001b[?25hRequirement already satisfied: tenacity>=6.2.0 in /opt/conda/lib/python3.7/site-packages (from plotly) (8.0.1)\n",
      "Installing collected packages: plotly\n",
      "Successfully installed plotly-5.9.0\n"
     ]
    }
   ],
   "source": [
    "!pip install plotly"
   ]
  },
  {
   "cell_type": "code",
   "execution_count": 3,
   "id": "1c1aba1d-1f55-4d30-ad32-917632da9484",
   "metadata": {},
   "outputs": [],
   "source": [
    "import pandas as pd\n",
    "import numpy as np\n",
    "import matplotlib.pyplot as plt\n",
    "import plotly.express as px\n",
    "from google.cloud import bigquery"
   ]
  },
  {
   "cell_type": "code",
   "execution_count": 5,
   "id": "66312baa-1193-4c2f-ac6a-f66eb9b36b5d",
   "metadata": {},
   "outputs": [],
   "source": [
    "bq = bigquery.Client();\n",
    "\n",
    "sql = \"\"\"\n",
    "select kpi_nv, missing_date\n",
    "from (\n",
    "  select *,\n",
    "    lag(time) over(partition by kpi_nv order by time) prev_date\n",
    "  from `opl-pnm-loc.pnm_kpis.KPI_NVE` t\n",
    "  where time >= '2022-05-02 00:00:00' and time <= '2022-05-02 01:00:59'\n",
    "  order by time\n",
    "),\n",
    "unnest(generate_timestamp_array(timestamp_add(prev_date, interval 1 minute), timestamp_sub(time, interval 1 minute), interval 1 minute)) missing_date \n",
    "where timestamp_diff(time, prev_date, minute) > 1 and time >= '2022-05-02 00:00:00' and time <= '2022-05-02 01:00:59'\n",
    "order by time\n",
    "limit 2000\n",
    "\"\"\""
   ]
  },
  {
   "cell_type": "code",
   "execution_count": 6,
   "id": "27cf7693-f79a-41a0-9665-715a2cfa4ecb",
   "metadata": {},
   "outputs": [
    {
     "name": "stderr",
     "output_type": "stream",
     "text": [
      "Query complete after 0.01s: 100%|██████████| 1/1 [00:00<00:00, 979.06query/s] \n",
      "Downloading: 100%|██████████| 1440/1440 [00:00<00:00, 1942.33rows/s]\n"
     ]
    },
    {
     "data": {
      "text/html": [
       "<div>\n",
       "<style scoped>\n",
       "    .dataframe tbody tr th:only-of-type {\n",
       "        vertical-align: middle;\n",
       "    }\n",
       "\n",
       "    .dataframe tbody tr th {\n",
       "        vertical-align: top;\n",
       "    }\n",
       "\n",
       "    .dataframe thead th {\n",
       "        text-align: right;\n",
       "    }\n",
       "</style>\n",
       "<table border=\"1\" class=\"dataframe\">\n",
       "  <thead>\n",
       "    <tr style=\"text-align: right;\">\n",
       "      <th></th>\n",
       "      <th>t1</th>\n",
       "      <th>nv</th>\n",
       "      <th>ne</th>\n",
       "      <th>ratio</th>\n",
       "    </tr>\n",
       "  </thead>\n",
       "  <tbody>\n",
       "    <tr>\n",
       "      <th>0</th>\n",
       "      <td>0</td>\n",
       "      <td>1027</td>\n",
       "      <td>14</td>\n",
       "      <td>1.363194</td>\n",
       "    </tr>\n",
       "    <tr>\n",
       "      <th>1</th>\n",
       "      <td>0</td>\n",
       "      <td>785</td>\n",
       "      <td>8</td>\n",
       "      <td>1.019108</td>\n",
       "    </tr>\n",
       "    <tr>\n",
       "      <th>2</th>\n",
       "      <td>0</td>\n",
       "      <td>787</td>\n",
       "      <td>7</td>\n",
       "      <td>0.889454</td>\n",
       "    </tr>\n",
       "    <tr>\n",
       "      <th>3</th>\n",
       "      <td>0</td>\n",
       "      <td>1046</td>\n",
       "      <td>12</td>\n",
       "      <td>1.147228</td>\n",
       "    </tr>\n",
       "    <tr>\n",
       "      <th>4</th>\n",
       "      <td>0</td>\n",
       "      <td>792</td>\n",
       "      <td>10</td>\n",
       "      <td>1.262626</td>\n",
       "    </tr>\n",
       "    <tr>\n",
       "      <th>...</th>\n",
       "      <td>...</td>\n",
       "      <td>...</td>\n",
       "      <td>...</td>\n",
       "      <td>...</td>\n",
       "    </tr>\n",
       "    <tr>\n",
       "      <th>1435</th>\n",
       "      <td>23</td>\n",
       "      <td>1516</td>\n",
       "      <td>24</td>\n",
       "      <td>1.583113</td>\n",
       "    </tr>\n",
       "    <tr>\n",
       "      <th>1436</th>\n",
       "      <td>23</td>\n",
       "      <td>1261</td>\n",
       "      <td>15</td>\n",
       "      <td>1.189532</td>\n",
       "    </tr>\n",
       "    <tr>\n",
       "      <th>1437</th>\n",
       "      <td>23</td>\n",
       "      <td>1780</td>\n",
       "      <td>25</td>\n",
       "      <td>1.404494</td>\n",
       "    </tr>\n",
       "    <tr>\n",
       "      <th>1438</th>\n",
       "      <td>23</td>\n",
       "      <td>1529</td>\n",
       "      <td>27</td>\n",
       "      <td>1.765860</td>\n",
       "    </tr>\n",
       "    <tr>\n",
       "      <th>1439</th>\n",
       "      <td>23</td>\n",
       "      <td>1787</td>\n",
       "      <td>19</td>\n",
       "      <td>1.063234</td>\n",
       "    </tr>\n",
       "  </tbody>\n",
       "</table>\n",
       "<p>1440 rows × 4 columns</p>\n",
       "</div>"
      ],
      "text/plain": [
       "      t1    nv  ne     ratio\n",
       "0      0  1027  14  1.363194\n",
       "1      0   785   8  1.019108\n",
       "2      0   787   7  0.889454\n",
       "3      0  1046  12  1.147228\n",
       "4      0   792  10  1.262626\n",
       "...   ..   ...  ..       ...\n",
       "1435  23  1516  24  1.583113\n",
       "1436  23  1261  15  1.189532\n",
       "1437  23  1780  25  1.404494\n",
       "1438  23  1529  27  1.765860\n",
       "1439  23  1787  19  1.063234\n",
       "\n",
       "[1440 rows x 4 columns]"
      ]
     },
     "execution_count": 6,
     "metadata": {},
     "output_type": "execute_result"
    }
   ],
   "source": [
    "%%bigquery \n",
    "SELECT EXTRACT(HOUR FROM time) AS t1, kpi_nv as nv, kpi_ne as ne, (kpi_ne/kpi_nv)*100 as ratio \n",
    "FROM `opl-pnm-loc.pnm_kpis.KPI_NVE`\n",
    "where time >= '2022-04-30 00:00:00 UTC' and time <= '2022-04-30 23:59:59 UTC'\n",
    "order by t1"
   ]
  },
  {
   "cell_type": "code",
   "execution_count": null,
   "id": "9d291d4b-0d09-47b5-b98e-cfa269e930ac",
   "metadata": {},
   "outputs": [],
   "source": []
  }
 ],
 "metadata": {
  "environment": {
   "kernel": "python3",
   "name": "common-cpu.m94",
   "type": "gcloud",
   "uri": "gcr.io/deeplearning-platform-release/base-cpu:m94"
  },
  "kernelspec": {
   "display_name": "Python 3",
   "language": "python",
   "name": "python3"
  },
  "language_info": {
   "codemirror_mode": {
    "name": "ipython",
    "version": 3
   },
   "file_extension": ".py",
   "mimetype": "text/x-python",
   "name": "python",
   "nbconvert_exporter": "python",
   "pygments_lexer": "ipython3",
   "version": "3.7.12"
  }
 },
 "nbformat": 4,
 "nbformat_minor": 5
}
